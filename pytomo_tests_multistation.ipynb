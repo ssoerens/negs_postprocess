{
 "cells": [
  {
   "cell_type": "markdown",
   "metadata": {},
   "source": [
    "## Signal Processing"
   ]
  },
  {
   "cell_type": "code",
   "execution_count": 1,
   "metadata": {
    "scrolled": true
   },
   "outputs": [
    {
     "name": "stdout",
     "output_type": "stream",
     "text": [
      "Can not import pyasdf. ASDF not supported then\n"
     ]
    }
   ],
   "source": [
    "from pytomo3d.signal.process import process_stream as process\n",
    "from obspy import read, read_inventory, read_events\n",
    "from pytomo3d.adjoint.adjoint_source import calculate_adjsrc_on_stream\n",
    "from pytomo3d.window.window import window_on_stream\n",
    "from pycmt3d.source import CMTSource"
   ]
  },
  {
   "cell_type": "code",
   "execution_count": 2,
   "metadata": {},
   "outputs": [],
   "source": [
    "import pyflex"
   ]
  },
  {
   "cell_type": "code",
   "execution_count": 47,
   "metadata": {},
   "outputs": [],
   "source": [
    "import pyadjoint"
   ]
  },
  {
   "cell_type": "code",
   "execution_count": 2,
   "metadata": {},
   "outputs": [
    {
     "ename": "ImportError",
     "evalue": "No module named pandas",
     "output_type": "error",
     "traceback": [
      "\u001b[0;31m---------------------------------------------------------------------------\u001b[0m",
      "\u001b[0;31mImportError\u001b[0m                               Traceback (most recent call last)",
      "\u001b[0;32m<ipython-input-2-7dd3504c366f>\u001b[0m in \u001b[0;36m<module>\u001b[0;34m()\u001b[0m\n\u001b[0;32m----> 1\u001b[0;31m \u001b[0;32mimport\u001b[0m \u001b[0mpandas\u001b[0m \u001b[0;32mas\u001b[0m \u001b[0mpd\u001b[0m\u001b[0;34m\u001b[0m\u001b[0m\n\u001b[0m",
      "\u001b[0;31mImportError\u001b[0m: No module named pandas"
     ]
    }
   ],
   "source": [
    "import pandas as pd"
   ]
  },
  {
   "cell_type": "code",
   "execution_count": 59,
   "metadata": {},
   "outputs": [],
   "source": [
    "import numpy as np"
   ]
  },
  {
   "cell_type": "code",
   "execution_count": 4,
   "metadata": {
    "scrolled": false
   },
   "outputs": [
    {
     "name": "stderr",
     "output_type": "stream",
     "text": [
      "/anaconda/envs/tomo_test/lib/python2.7/site-packages/obspy/__init__.py:160: ObsPyDeprecationWarning: Module 'obspy.fdsn' is deprecated and will stop working with the next ObsPy version. Please import module 'obspy.clients.fdsn' instead.\n",
      "  ObsPyDeprecationWarning)\n",
      "/anaconda/envs/tomo_test/lib/python2.7/site-packages/obspy/__init__.py:160: ObsPyDeprecationWarning: Module 'obspy.fdsn.client' is deprecated and will stop working with the next ObsPy version. Please import module 'obspy.clients.fdsn.client' instead.\n",
      "  ObsPyDeprecationWarning)\n"
     ]
    }
   ],
   "source": [
    "from obspy.fdsn.client import Client\n",
    "from obspy import UTCDateTime\n",
    "client = Client(\"IRIS\")\n",
    "\n",
    "t = UTCDateTime(\"2014-09-01-00:00:00\")\n",
    "NN17 = client.get_stations(network=\"UW\", station=\"NN17\", level=\"response\", starttime=t)#, endtime=t)\n",
    "# stations = client https://discussions.apple.com/thread/3203909.get_stations(network=\"UW\", station=\"NN\", level=\"response\", starttime=t)#, endtime=t)"
   ]
  },
  {
   "cell_type": "markdown",
   "metadata": {},
   "source": [
    "using both pycmt3d and Obspy to read event info from CMT file"
   ]
  },
  {
   "cell_type": "code",
   "execution_count": 5,
   "metadata": {
    "scrolled": true
   },
   "outputs": [
    {
     "name": "stdout",
     "output_type": "stream",
     "text": [
      "Can not import pyasdf. ASDF not supported then\n"
     ]
    }
   ],
   "source": [
    "cmtfile = \"NEGS_10_05_04/DATA/CMTSOLUTION\"\n",
    "cmtsource = CMTSource.from_CMTSOLUTION_file(cmtfile)\n",
    "cmt_obspy = read_events(cmtfile)"
   ]
  },
  {
   "cell_type": "markdown",
   "metadata": {},
   "source": [
    "setting event variables, creating a pyflex event, writing event to a quakeml"
   ]
  },
  {
   "cell_type": "code",
   "execution_count": 6,
   "metadata": {
    "scrolled": false
   },
   "outputs": [
    {
     "data": {
      "text/plain": [
       "1 Event(s) in Catalog:\n",
       "2014-10-05T04:07:30.432000Z | +43.726, -121.310 | 1.7 mw"
      ]
     },
     "execution_count": 6,
     "metadata": {},
     "output_type": "execute_result"
    }
   ],
   "source": [
    "cmt_obspy"
   ]
  },
  {
   "cell_type": "markdown",
   "metadata": {},
   "source": [
    "reading in variables from cmtsource, writing, then reading in with obspy"
   ]
  },
  {
   "cell_type": "code",
   "execution_count": 7,
   "metadata": {},
   "outputs": [
    {
     "name": "stderr",
     "output_type": "stream",
     "text": [
      "/anaconda/envs/tomo_test/lib/python2.7/site-packages/obspy/core/event/base.pyc:378: UserWarning: The resource identifier 'smi:local/cmtsolution/20141005040730/moment_tensor' already exists and points to another object: 'MomentTensor(resource_id=ResourceIdentifier(id=\"smi:local/cmtsolution/20141005040730/moment_tensor\"), derived_origin_id=ResourceIdentifier(id=\"smi:local/cmtsolution/20141005040730/origin#cmt\"), moment_magnitude_id=ResourceIdentifier(id=\"smi:local/cmtsolution/20141005040730/magnitude#mw\"), scalar_moment=441570510555.2226, tensor=Tensor(m_rr=370790000000.0, m_tt=88922000000.0, m_pp=-197980000000.0, m_rt=271800000000.0, m_rp=-126000000000.0, m_tp=-113750000000.0), source_time_function=SourceTimeFunction(type='triangle', duration=0.0))'.It will now point to the object referred to by the new resource identifier.\n",
      "  \u0000\u0000\u0000warn_explicitt\u000b",
      "\u0000\u0000\u0000UserWarning\u0000\u0000\u0000__file__t\u0007\u0000\u0000\u0000inspectt\f",
      "\u0000\u0000\u0000currentframet\u0006\u0000\u0000\u0000f_back\u0000\u0000\u0000f_lineno(\u0003\u0000\u0000\u0000R\u0014\u0000\u0000\u0000Rw\u0000\u0000\u0000Rf\u0000\u0000\u0000(\u0000\u0000\u0000\u0000(\u0000\u0000\u0000\u0000s4\u0000\u0000\u0000lib/python2.7/site-packages/obspy/core/event/base.pyRc\u0000\u0000\u0000h\u0002\u0000\u0000s\u001c",
      "\u0000\u0000\u0000\u0000\u000b",
      "\u0012\u0002\u0010\u0001\u0004\u0004\n",
      "/anaconda/envs/tomo_test/lib/python2.7/site-packages/obspy/core/event/base.pyc:378: UserWarning: The resource identifier 'smi:local/cmtsolution/20141005040730/focal_mechanism' already exists and points to another object: 'FocalMechanism(resource_id=ResourceIdentifier(id=\"smi:local/cmtsolution/20141005040730/focal_mechanism\"), triggering_origin_id=ResourceIdentifier(id=\"smi:local/cmtsolution/20141005040730/origin#prelim\"), moment_tensor=MomentTensor(resource_id=ResourceIdentifier(id=\"smi:local/cmtsolution/20141005040730/moment_tensor\"), derived_origin_id=ResourceIdentifier(id=\"smi:local/cmtsolution/20141005040730/origin#cmt\"), moment_magnitude_id=ResourceIdentifier(id=\"smi:local/cmtsolution/20141005040730/magnitude#mw\"), scalar_moment=441570510555.2226, tensor=Tensor(m_rr=370790000000.0, m_tt=88922000000.0, m_pp=-197980000000.0, m_rt=271800000000.0, m_rp=-126000000000.0, m_tp=-113750000000.0), source_time_function=SourceTimeFunction(type='triangle', duration=0.0)))'.It will now point to the object referred to by the new resource identifier.\n",
      "  \u0000\u0000\u0000warn_explicitt\u000b",
      "\u0000\u0000\u0000UserWarning\u0000\u0000\u0000__file__t\u0007\u0000\u0000\u0000inspectt\f",
      "\u0000\u0000\u0000currentframet\u0006\u0000\u0000\u0000f_back\u0000\u0000\u0000f_lineno(\u0003\u0000\u0000\u0000R\u0014\u0000\u0000\u0000Rw\u0000\u0000\u0000Rf\u0000\u0000\u0000(\u0000\u0000\u0000\u0000(\u0000\u0000\u0000\u0000s4\u0000\u0000\u0000lib/python2.7/site-packages/obspy/core/event/base.pyRc\u0000\u0000\u0000h\u0002\u0000\u0000s\u001c",
      "\u0000\u0000\u0000\u0000\u000b",
      "\u0012\u0002\u0010\u0001\u0004\u0004\n",
      "/anaconda/envs/tomo_test/lib/python2.7/site-packages/obspy/core/event/base.pyc:378: UserWarning: The resource identifier 'smi:local/cmtsolution/20141005040730/event' already exists and points to another object: 'Event(resource_id=ResourceIdentifier(id=\"smi:local/cmtsolution/20141005040730/event\"), event_type='earthquake', preferred_origin_id=ResourceIdentifier(id=\"smi:local/cmtsolution/20141005040730/origin#cmt\"), preferred_magnitude_id=ResourceIdentifier(id=\"smi:local/cmtsolution/20141005040730/magnitude#mw\"), preferred_focal_mechanism_id=ResourceIdentifier(id=\"smi:local/cmtsolution/20141005040730/focal_mechanism\"))'.It will now point to the object referred to by the new resource identifier.\n",
      "  \u0000\u0000\u0000warn_explicitt\u000b",
      "\u0000\u0000\u0000UserWarning\u0000\u0000\u0000__file__t\u0007\u0000\u0000\u0000inspectt\f",
      "\u0000\u0000\u0000currentframet\u0006\u0000\u0000\u0000f_back\u0000\u0000\u0000f_lineno(\u0003\u0000\u0000\u0000R\u0014\u0000\u0000\u0000Rw\u0000\u0000\u0000Rf\u0000\u0000\u0000(\u0000\u0000\u0000\u0000(\u0000\u0000\u0000\u0000s4\u0000\u0000\u0000lib/python2.7/site-packages/obspy/core/event/base.pyRc\u0000\u0000\u0000h\u0002\u0000\u0000s\u001c",
      "\u0000\u0000\u0000\u0000\u000b",
      "\u0012\u0002\u0010\u0001\u0004\u0004\n"
     ]
    }
   ],
   "source": [
    "latitude = cmtsource.latitude\n",
    "longitude = cmtsource.longitude\n",
    "depth_in_m = cmtsource.depth_in_m\n",
    "origin_time = cmtsource.origin_time\n",
    "event = pyflex.Event(latitude, longitude, depth_in_m, origin_time)\n",
    "cmt_obspy.write(\"event.xml\", format=\"QUAKEML\")\n",
    "event_ml = read_events(\"event.xml\")"
   ]
  },
  {
   "cell_type": "markdown",
   "metadata": {},
   "source": [
    "reading in waveforms, writing to mseed and reading back in for easier control of stats"
   ]
  },
  {
   "cell_type": "code",
   "execution_count": 8,
   "metadata": {},
   "outputs": [],
   "source": [
    "obs = read((\"NEGS_10_05_04/DATA/SAC/N*.EH?.UW.01\"))"
   ]
  },
  {
   "cell_type": "code",
   "execution_count": 9,
   "metadata": {},
   "outputs": [],
   "source": [
    "obs.write('obs.mseed', format='MSEED')\n",
    "obs = read(\"obs.mseed\")\n",
    "stream = obs.copy()"
   ]
  },
  {
   "cell_type": "markdown",
   "metadata": {},
   "source": [
    "set inventory to specific channel"
   ]
  },
  {
   "cell_type": "code",
   "execution_count": 10,
   "metadata": {},
   "outputs": [
    {
     "data": {
      "text/plain": [
       "         network: UW\n",
       "         station: NM03\n",
       "        location: 01\n",
       "         channel: EHE\n",
       "       starttime: 2014-10-05T04:07:14.000000Z\n",
       "         endtime: 2014-10-05T04:08:39.996005Z\n",
       "   sampling_rate: 249.999984741\n",
       "           delta: 0.00400000024414\n",
       "            npts: 21500\n",
       "           calib: 1.0\n",
       "         _format: MSEED\n",
       "           mseed: AttribDict({'record_length': 4096, 'encoding': u'FLOAT32', 'filesize': 2830336, u'dataquality': u'D', 'number_of_records': 691, 'byteorder': u'>'})"
      ]
     },
     "execution_count": 10,
     "metadata": {},
     "output_type": "execute_result"
    }
   ],
   "source": [
    "obs[0].stats"
   ]
  },
  {
   "cell_type": "code",
   "execution_count": 11,
   "metadata": {},
   "outputs": [],
   "source": [
    "# inv = read_inventory(\"NEGS_10_05_04/station_meta/fdsnws-station_2017-08-27T15_22_13Z.xml\")\n",
    "# inv = NN17.select(channel='*Z')\n",
    "inv = NN17"
   ]
  },
  {
   "cell_type": "markdown",
   "metadata": {},
   "source": [
    "adding event info to obs sac file"
   ]
  },
  {
   "cell_type": "code",
   "execution_count": 12,
   "metadata": {},
   "outputs": [],
   "source": [
    "# sac_obs = obs[0].stats.sac\n",
    "# sac_obs.evla = latitude\n",
    "# sac_obs.evlo = longitude\n",
    "# sac_obs.evdp = depth_in_m\n",
    "# sac_obs.stla = inv\n",
    "# obs[0].stats.sac = sac_obs"
   ]
  },
  {
   "cell_type": "markdown",
   "metadata": {},
   "source": [
    "setting filter frequency band"
   ]
  },
  {
   "cell_type": "code",
   "execution_count": 13,
   "metadata": {},
   "outputs": [],
   "source": [
    "# pre_filt = [.8, 1, 100, 120]\n",
    "pre_filt = [1.6, 2, 30, 36]"
   ]
  },
  {
   "cell_type": "markdown",
   "metadata": {},
   "source": [
    "processing observations as preparation for identical processing with synthetics, including removing instrument response"
   ]
  },
  {
   "cell_type": "code",
   "execution_count": 14,
   "metadata": {},
   "outputs": [],
   "source": [
    "start_time = stream[2].stats.starttime # some traces start 2sec later\n",
    "end_time = stream[2].stats.starttime + 30 # second"
   ]
  },
  {
   "cell_type": "code",
   "execution_count": 15,
   "metadata": {},
   "outputs": [
    {
     "data": {
      "text/plain": [
       "39 Trace(s) in Stream:\n",
       "\n",
       "UW.NM03.01.EHE | 2014-10-05T04:07:14.000000Z - 2014-10-05T04:08:39.996005Z | 250.0 Hz, 21500 samples\n",
       "...\n",
       "(37 other traces)\n",
       "...\n",
       "UW.NN32.01.EHZ | 2014-10-05T04:07:16.000000Z - 2014-10-05T04:07:55.996002Z | 250.0 Hz, 10000 samples\n",
       "\n",
       "[Use \"print(Stream.__str__(extended=True))\" to print all Traces]"
      ]
     },
     "execution_count": 15,
     "metadata": {},
     "output_type": "execute_result"
    }
   ],
   "source": [
    "obs.detrend(\"linear\")\n",
    "obs.detrend(\"demean\")\n",
    "obs.taper(max_percentage=0.05, type=\"hann\")"
   ]
  },
  {
   "cell_type": "markdown",
   "metadata": {},
   "source": [
    "We'll read a csv file of station information using pandas and create an inventory object for all stations using this DataFrame."
   ]
  },
  {
   "cell_type": "code",
   "execution_count": 16,
   "metadata": {},
   "outputs": [],
   "source": [
    "station_data = \"MSA_Install_Data.csv\"\n",
    "stations = pd.read_csv(station_data)"
   ]
  },
  {
   "cell_type": "code",
   "execution_count": 17,
   "metadata": {},
   "outputs": [
    {
     "data": {
      "text/html": [
       "<div>\n",
       "<style scoped>\n",
       "    .dataframe tbody tr th:only-of-type {\n",
       "        vertical-align: middle;\n",
       "    }\n",
       "\n",
       "    .dataframe tbody tr th {\n",
       "        vertical-align: top;\n",
       "    }\n",
       "\n",
       "    .dataframe thead th {\n",
       "        text-align: right;\n",
       "    }\n",
       "</style>\n",
       "<table border=\"1\" class=\"dataframe\">\n",
       "  <thead>\n",
       "    <tr style=\"text-align: right;\">\n",
       "      <th></th>\n",
       "      <th>NAME</th>\n",
       "      <th>Type</th>\n",
       "      <th>Longitude_</th>\n",
       "      <th>Latitude_W</th>\n",
       "      <th>Easting</th>\n",
       "      <th>Northing</th>\n",
       "      <th>Surface_El</th>\n",
       "      <th>Hole_Lock</th>\n",
       "      <th>Elevation_</th>\n",
       "      <th>_</th>\n",
       "      <th>Subsection</th>\n",
       "      <th>Road</th>\n",
       "    </tr>\n",
       "  </thead>\n",
       "  <tbody>\n",
       "    <tr>\n",
       "      <th>0</th>\n",
       "      <td>NM22</td>\n",
       "      <td>surface</td>\n",
       "      <td>-121.308950</td>\n",
       "      <td>43.725225</td>\n",
       "      <td>636203.478346</td>\n",
       "      <td>4.842744e+06</td>\n",
       "      <td>5917.500000</td>\n",
       "      <td>4.0</td>\n",
       "      <td>5911.000000</td>\n",
       "      <td>1.802134</td>\n",
       "      <td>NaN</td>\n",
       "      <td>NaN</td>\n",
       "    </tr>\n",
       "    <tr>\n",
       "      <th>1</th>\n",
       "      <td>NM06</td>\n",
       "      <td>surface</td>\n",
       "      <td>-121.300140</td>\n",
       "      <td>43.724555</td>\n",
       "      <td>636914.604602</td>\n",
       "      <td>4.842685e+06</td>\n",
       "      <td>5971.000000</td>\n",
       "      <td>4.0</td>\n",
       "      <td>5979.000000</td>\n",
       "      <td>1.822866</td>\n",
       "      <td>NaN</td>\n",
       "      <td>NaN</td>\n",
       "    </tr>\n",
       "    <tr>\n",
       "      <th>2</th>\n",
       "      <td>NM42</td>\n",
       "      <td>surface</td>\n",
       "      <td>-121.279170</td>\n",
       "      <td>43.750590</td>\n",
       "      <td>638543.589159</td>\n",
       "      <td>4.845611e+06</td>\n",
       "      <td>6615.500000</td>\n",
       "      <td>4.0</td>\n",
       "      <td>6611.000000</td>\n",
       "      <td>2.015549</td>\n",
       "      <td>NaN</td>\n",
       "      <td>NaN</td>\n",
       "    </tr>\n",
       "    <tr>\n",
       "      <th>3</th>\n",
       "      <td>NM41</td>\n",
       "      <td>surface</td>\n",
       "      <td>-121.291205</td>\n",
       "      <td>43.710620</td>\n",
       "      <td>637666.190449</td>\n",
       "      <td>4.841152e+06</td>\n",
       "      <td>6143.500000</td>\n",
       "      <td>4.0</td>\n",
       "      <td>6158.000000</td>\n",
       "      <td>1.877439</td>\n",
       "      <td>NaN</td>\n",
       "      <td>NaN</td>\n",
       "    </tr>\n",
       "    <tr>\n",
       "      <th>4</th>\n",
       "      <td>NM08</td>\n",
       "      <td>surface</td>\n",
       "      <td>-121.302880</td>\n",
       "      <td>43.700835</td>\n",
       "      <td>636747.849486</td>\n",
       "      <td>4.840046e+06</td>\n",
       "      <td>6030.000000</td>\n",
       "      <td>4.0</td>\n",
       "      <td>6031.000000</td>\n",
       "      <td>1.838720</td>\n",
       "      <td>NaN</td>\n",
       "      <td>NaN</td>\n",
       "    </tr>\n",
       "    <tr>\n",
       "      <th>5</th>\n",
       "      <td>NM40</td>\n",
       "      <td>surface</td>\n",
       "      <td>-121.279640</td>\n",
       "      <td>43.718310</td>\n",
       "      <td>638580.190642</td>\n",
       "      <td>4.842025e+06</td>\n",
       "      <td>6461.000000</td>\n",
       "      <td>4.0</td>\n",
       "      <td>6457.000000</td>\n",
       "      <td>1.968598</td>\n",
       "      <td>NaN</td>\n",
       "      <td>NaN</td>\n",
       "    </tr>\n",
       "    <tr>\n",
       "      <th>6</th>\n",
       "      <td>NN07</td>\n",
       "      <td>borehole</td>\n",
       "      <td>-121.325087</td>\n",
       "      <td>43.751470</td>\n",
       "      <td>634844.825338</td>\n",
       "      <td>4.845633e+06</td>\n",
       "      <td>5543.000000</td>\n",
       "      <td>830.0</td>\n",
       "      <td>4703.000000</td>\n",
       "      <td>1.433841</td>\n",
       "      <td>NaN</td>\n",
       "      <td>NaN</td>\n",
       "    </tr>\n",
       "    <tr>\n",
       "      <th>7</th>\n",
       "      <td>NN19</td>\n",
       "      <td>borehole</td>\n",
       "      <td>-121.306950</td>\n",
       "      <td>43.718317</td>\n",
       "      <td>636380.242697</td>\n",
       "      <td>4.841980e+06</td>\n",
       "      <td>5914.000000</td>\n",
       "      <td>790.0</td>\n",
       "      <td>5102.000000</td>\n",
       "      <td>1.555488</td>\n",
       "      <td>SWSW of S28 T21S R12E</td>\n",
       "      <td>USFS Road 600A-9735 (MP 11 ), Deschutes County...</td>\n",
       "    </tr>\n",
       "    <tr>\n",
       "      <th>8</th>\n",
       "      <td>NN18</td>\n",
       "      <td>borehole</td>\n",
       "      <td>-121.302117</td>\n",
       "      <td>43.737577</td>\n",
       "      <td>636725.757453</td>\n",
       "      <td>4.844128e+06</td>\n",
       "      <td>6032.000000</td>\n",
       "      <td>810.0</td>\n",
       "      <td>5223.000000</td>\n",
       "      <td>1.592378</td>\n",
       "      <td>NESW of S21 T21S R12E</td>\n",
       "      <td>USFS Road 685-9735 (MP 11 ), Deschutes County,...</td>\n",
       "    </tr>\n",
       "    <tr>\n",
       "      <th>9</th>\n",
       "      <td>NN21</td>\n",
       "      <td>borehole</td>\n",
       "      <td>-121.289867</td>\n",
       "      <td>43.733180</td>\n",
       "      <td>637722.307837</td>\n",
       "      <td>4.843659e+06</td>\n",
       "      <td>6262.000000</td>\n",
       "      <td>690.0</td>\n",
       "      <td>5559.000000</td>\n",
       "      <td>1.694817</td>\n",
       "      <td>SESE of S21 T21S R12E</td>\n",
       "      <td>USFS Road 687-9735 (MP 11 ), Deschutes County,...</td>\n",
       "    </tr>\n",
       "    <tr>\n",
       "      <th>10</th>\n",
       "      <td>NN17</td>\n",
       "      <td>borehole</td>\n",
       "      <td>-121.327510</td>\n",
       "      <td>43.720763</td>\n",
       "      <td>634718.567561</td>\n",
       "      <td>4.842219e+06</td>\n",
       "      <td>5576.333333</td>\n",
       "      <td>710.0</td>\n",
       "      <td>4870.000000</td>\n",
       "      <td>1.484756</td>\n",
       "      <td>SWSW of S29 T21S R12E</td>\n",
       "      <td>USFS Road 300-9735, Deschutes County, Oregon</td>\n",
       "    </tr>\n",
       "    <tr>\n",
       "      <th>11</th>\n",
       "      <td>NN09</td>\n",
       "      <td>borehole</td>\n",
       "      <td>-121.332547</td>\n",
       "      <td>43.733167</td>\n",
       "      <td>634285.140699</td>\n",
       "      <td>4.843588e+06</td>\n",
       "      <td>5492.333333</td>\n",
       "      <td>859.0</td>\n",
       "      <td>4625.000000</td>\n",
       "      <td>1.410061</td>\n",
       "      <td>NaN</td>\n",
       "      <td>NaN</td>\n",
       "    </tr>\n",
       "    <tr>\n",
       "      <th>12</th>\n",
       "      <td>NN32</td>\n",
       "      <td>borehole</td>\n",
       "      <td>-121.327480</td>\n",
       "      <td>43.703850</td>\n",
       "      <td>634758.887514</td>\n",
       "      <td>4.840340e+06</td>\n",
       "      <td>5544.666667</td>\n",
       "      <td>948.0</td>\n",
       "      <td>4596.666667</td>\n",
       "      <td>1.401423</td>\n",
       "      <td>NaN</td>\n",
       "      <td>NaN</td>\n",
       "    </tr>\n",
       "    <tr>\n",
       "      <th>13</th>\n",
       "      <td>NM03</td>\n",
       "      <td>borehole</td>\n",
       "      <td>-121.302237</td>\n",
       "      <td>43.752327</td>\n",
       "      <td>636682.519362</td>\n",
       "      <td>4.845766e+06</td>\n",
       "      <td>6123.333333</td>\n",
       "      <td>4.0</td>\n",
       "      <td>6119.333333</td>\n",
       "      <td>1.865650</td>\n",
       "      <td>NaN</td>\n",
       "      <td>NaN</td>\n",
       "    </tr>\n",
       "    <tr>\n",
       "      <th>14</th>\n",
       "      <td>NN24</td>\n",
       "      <td>borehole</td>\n",
       "      <td>-121.308860</td>\n",
       "      <td>43.732057</td>\n",
       "      <td>636195.242144</td>\n",
       "      <td>4.843503e+06</td>\n",
       "      <td>5946.333333</td>\n",
       "      <td>692.0</td>\n",
       "      <td>5241.000000</td>\n",
       "      <td>1.597866</td>\n",
       "      <td>NWNW of S28 T21S R12E</td>\n",
       "      <td>USFS Road 600A-9735 (MP 10), Deschutes County,...</td>\n",
       "    </tr>\n",
       "  </tbody>\n",
       "</table>\n",
       "</div>"
      ],
      "text/plain": [
       "    NAME      Type  Longitude_  Latitude_W        Easting      Northing  \\\n",
       "0   NM22   surface -121.308950   43.725225  636203.478346  4.842744e+06   \n",
       "1   NM06   surface -121.300140   43.724555  636914.604602  4.842685e+06   \n",
       "2   NM42   surface -121.279170   43.750590  638543.589159  4.845611e+06   \n",
       "3   NM41   surface -121.291205   43.710620  637666.190449  4.841152e+06   \n",
       "4   NM08   surface -121.302880   43.700835  636747.849486  4.840046e+06   \n",
       "5   NM40   surface -121.279640   43.718310  638580.190642  4.842025e+06   \n",
       "6   NN07  borehole -121.325087   43.751470  634844.825338  4.845633e+06   \n",
       "7   NN19  borehole -121.306950   43.718317  636380.242697  4.841980e+06   \n",
       "8   NN18  borehole -121.302117   43.737577  636725.757453  4.844128e+06   \n",
       "9   NN21  borehole -121.289867   43.733180  637722.307837  4.843659e+06   \n",
       "10  NN17  borehole -121.327510   43.720763  634718.567561  4.842219e+06   \n",
       "11  NN09  borehole -121.332547   43.733167  634285.140699  4.843588e+06   \n",
       "12  NN32  borehole -121.327480   43.703850  634758.887514  4.840340e+06   \n",
       "13  NM03  borehole -121.302237   43.752327  636682.519362  4.845766e+06   \n",
       "14  NN24  borehole -121.308860   43.732057  636195.242144  4.843503e+06   \n",
       "\n",
       "     Surface_El  Hole_Lock   Elevation_         _             Subsection  \\\n",
       "0   5917.500000        4.0  5911.000000  1.802134                    NaN   \n",
       "1   5971.000000        4.0  5979.000000  1.822866                    NaN   \n",
       "2   6615.500000        4.0  6611.000000  2.015549                    NaN   \n",
       "3   6143.500000        4.0  6158.000000  1.877439                    NaN   \n",
       "4   6030.000000        4.0  6031.000000  1.838720                    NaN   \n",
       "5   6461.000000        4.0  6457.000000  1.968598                    NaN   \n",
       "6   5543.000000      830.0  4703.000000  1.433841                    NaN   \n",
       "7   5914.000000      790.0  5102.000000  1.555488  SWSW of S28 T21S R12E   \n",
       "8   6032.000000      810.0  5223.000000  1.592378  NESW of S21 T21S R12E   \n",
       "9   6262.000000      690.0  5559.000000  1.694817  SESE of S21 T21S R12E   \n",
       "10  5576.333333      710.0  4870.000000  1.484756  SWSW of S29 T21S R12E   \n",
       "11  5492.333333      859.0  4625.000000  1.410061                    NaN   \n",
       "12  5544.666667      948.0  4596.666667  1.401423                    NaN   \n",
       "13  6123.333333        4.0  6119.333333  1.865650                    NaN   \n",
       "14  5946.333333      692.0  5241.000000  1.597866  NWNW of S28 T21S R12E   \n",
       "\n",
       "                                                 Road  \n",
       "0                                                 NaN  \n",
       "1                                                 NaN  \n",
       "2                                                 NaN  \n",
       "3                                                 NaN  \n",
       "4                                                 NaN  \n",
       "5                                                 NaN  \n",
       "6                                                 NaN  \n",
       "7   USFS Road 600A-9735 (MP 11 ), Deschutes County...  \n",
       "8   USFS Road 685-9735 (MP 11 ), Deschutes County,...  \n",
       "9   USFS Road 687-9735 (MP 11 ), Deschutes County,...  \n",
       "10       USFS Road 300-9735, Deschutes County, Oregon  \n",
       "11                                                NaN  \n",
       "12                                                NaN  \n",
       "13                                                NaN  \n",
       "14  USFS Road 600A-9735 (MP 10), Deschutes County,...  "
      ]
     },
     "execution_count": 17,
     "metadata": {},
     "output_type": "execute_result"
    }
   ],
   "source": [
    "stations"
   ]
  },
  {
   "cell_type": "markdown",
   "metadata": {},
   "source": [
    "Let's convert feet to meters"
   ]
  },
  {
   "cell_type": "code",
   "execution_count": 18,
   "metadata": {},
   "outputs": [],
   "source": [
    "surface_elevation = stations.Surface_El * .3048\n",
    "depth = stations.Hole_Lock * .3048"
   ]
  },
  {
   "cell_type": "code",
   "execution_count": 19,
   "metadata": {},
   "outputs": [],
   "source": [
    "from obspy import Inventory\n",
    "from obspy.core.inventory import Network, Station, Channel"
   ]
  },
  {
   "cell_type": "markdown",
   "metadata": {},
   "source": [
    "Let's initialize some inventory objects."
   ]
  },
  {
   "cell_type": "code",
   "execution_count": 20,
   "metadata": {},
   "outputs": [],
   "source": [
    "negs_inv = Inventory([], 'NEGS')"
   ]
  },
  {
   "cell_type": "code",
   "execution_count": 21,
   "metadata": {},
   "outputs": [],
   "source": [
    "net = Network('UW',[])"
   ]
  },
  {
   "cell_type": "code",
   "execution_count": 22,
   "metadata": {},
   "outputs": [],
   "source": [
    "response = NN17[0][0][0].response"
   ]
  },
  {
   "cell_type": "markdown",
   "metadata": {},
   "source": [
    "Here we create a for loop through each station, create Channel objects for each component, create a Station object, append the channels we just created to that station, then append that station to the Network object we initialized before."
   ]
  },
  {
   "cell_type": "code",
   "execution_count": 23,
   "metadata": {},
   "outputs": [],
   "source": [
    "for i in range(len(stations)):\n",
    "    cha_z = Channel('EHZ', '01',stations.Latitude_W[i], stations.Longitude_[i], surface_elevation[i], depth[i], 0, 90, response=response)\n",
    "    cha_e = Channel('EHE', '01',stations.Latitude_W[i], stations.Longitude_[i], surface_elevation[i], depth[i], 90, 0, response=response)\n",
    "    cha_n = Channel('EHN', '01',stations.Latitude_W[i], stations.Longitude_[i], surface_elevation[i], depth[i], 0, 0, response=response)\n",
    "    sta_temp = Station(stations.NAME[i], stations.Latitude_W[i], stations.Longitude_[i], surface_elevation[i])\n",
    "    sta_temp.channels.append(cha_z)\n",
    "    sta_temp.channels.append(cha_e)\n",
    "    sta_temp.channels.append(cha_n)\n",
    "    net.stations.append(sta_temp)"
   ]
  },
  {
   "cell_type": "code",
   "execution_count": 24,
   "metadata": {},
   "outputs": [],
   "source": [
    "negs_inv.networks.append(net)"
   ]
  },
  {
   "cell_type": "markdown",
   "metadata": {},
   "source": [
    "A filter is applied then instrument response removed, "
   ]
  },
  {
   "cell_type": "code",
   "execution_count": 25,
   "metadata": {},
   "outputs": [],
   "source": [
    "new_obs = process(obs, remove_response_flag=True, inventory=negs_inv,\n",
    "                  filter_flag=True, pre_filt=pre_filt)\n",
    "# write out processed stream\n",
    "# new_obs.write(\"test.mseed\", format=\"MSEED\")"
   ]
  },
  {
   "cell_type": "markdown",
   "metadata": {},
   "source": [
    "#### matching observations and synthetics"
   ]
  },
  {
   "cell_type": "code",
   "execution_count": 26,
   "metadata": {
    "scrolled": true
   },
   "outputs": [],
   "source": [
    "synth_sac = read('NEGS_10_05_04/SEM/UW.N*.FX?.semd.sac.np')#, format = 'TSPAIR', startttime=-4.0000002E-03)\n",
    "synth_start = synth_sac[0].stats.sac['b']\n",
    "synth_sac.write(\"synth.mseed\", format='MSEED')\n",
    "synth = read(\"synth.mseed\")\n",
    "obs_data = new_obs.copy()"
   ]
  },
  {
   "cell_type": "code",
   "execution_count": 27,
   "metadata": {},
   "outputs": [],
   "source": [
    "for i in range(len(synth)):\n",
    "    synth_sac[i].stats.location = '01'"
   ]
  },
  {
   "cell_type": "markdown",
   "metadata": {},
   "source": [
    "removing bad traces from stram"
   ]
  },
  {
   "cell_type": "code",
   "execution_count": 28,
   "metadata": {},
   "outputs": [],
   "source": [
    "for tr in obs_data.select(station=\"NM08\"):\n",
    "    obs_data.remove(tr)\n",
    "for tr in obs_data.select(station=\"NM41\", channel=\"EHE\"):\n",
    "    obs_data.remove(tr)\n",
    "for tr in synth.select(station=\"NM08\"):\n",
    "    synth.remove(tr)\n",
    "for tr in synth.select(station=\"NM41\", channel=\"FXE\"):\n",
    "    synth.remove(tr)"
   ]
  },
  {
   "cell_type": "markdown",
   "metadata": {},
   "source": [
    "making stats compatible"
   ]
  },
  {
   "cell_type": "code",
   "execution_count": 29,
   "metadata": {
    "scrolled": true
   },
   "outputs": [],
   "source": [
    "# start_time = obs_data[0].stats.starttime\n",
    "# origin = start_time + obs_data[0].stats.sac['o']\n",
    "end_time = synth[0].stats.endtime\n",
    "for i in range(len(synth)):\n",
    "    synth[i].stats.starttime = origin_time - synth_start\n",
    "#     end_time = synth[i].stats.endtime\n",
    "# synth[0].stats.endtime = end_time"
   ]
  },
  {
   "cell_type": "markdown",
   "metadata": {},
   "source": [
    "padding zeros before start of synth"
   ]
  },
  {
   "cell_type": "code",
   "execution_count": 30,
   "metadata": {},
   "outputs": [],
   "source": [
    "for i in range(len(synth)):\n",
    "    synth[i].trim(starttime=start_time, endtime=end_time, pad=True, fill_value=0)\n",
    "sampling_rate = 1/synth[0].stats.delta\n",
    "npts = synth[0].stats.npts"
   ]
  },
  {
   "cell_type": "markdown",
   "metadata": {},
   "source": [
    "interpolating obs"
   ]
  },
  {
   "cell_type": "code",
   "execution_count": 31,
   "metadata": {
    "scrolled": true
   },
   "outputs": [],
   "source": [
    "for i in range(len(obs_data)):\n",
    "    obs_data[i].interpolate(sampling_rate, starttime=start_time, npts=npts)"
   ]
  },
  {
   "cell_type": "markdown",
   "metadata": {},
   "source": [
    "pre-processing"
   ]
  },
  {
   "cell_type": "code",
   "execution_count": 32,
   "metadata": {},
   "outputs": [],
   "source": [
    "min_frequency = 2.0\n",
    "# max_frequency = 28\n",
    "max_frequency = 30"
   ]
  },
  {
   "cell_type": "code",
   "execution_count": 33,
   "metadata": {},
   "outputs": [
    {
     "data": {
      "text/plain": [
       "69 Trace(s) in Stream:\n",
       "\n",
       "UW.NM03..FXE | 2014-10-05T04:07:16.000000Z - 2014-10-05T04:07:44.427600Z | 2500.0 Hz, 71070 samples\n",
       "...\n",
       "(67 other traces)\n",
       "...\n",
       "UW.NN32..FXZ | 2014-10-05T04:07:16.000000Z - 2014-10-05T04:07:44.427600Z | 2500.0 Hz, 71070 samples\n",
       "\n",
       "[Use \"print(Stream.__str__(extended=True))\" to print all Traces]"
      ]
     },
     "execution_count": 33,
     "metadata": {},
     "output_type": "execute_result"
    }
   ],
   "source": [
    "synth.detrend(\"linear\")\n",
    "synth.detrend(\"demean\")\n",
    "synth.taper(max_percentage=0.05, type=\"hann\")\n",
    "synth.filter(\"bandpass\", freqmin=min_frequency, freqmax=max_frequency,\n",
    "                  corners=4, zerophase=True)"
   ]
  },
  {
   "cell_type": "code",
   "execution_count": 34,
   "metadata": {},
   "outputs": [
    {
     "data": {
      "text/plain": [
       "35 Trace(s) in Stream:\n",
       "\n",
       "UW.NM03.01.EHE | 2014-10-05T04:07:16.000000Z - 2014-10-05T04:07:44.427600Z | 2500.0 Hz, 71070 samples\n",
       "...\n",
       "(33 other traces)\n",
       "...\n",
       "UW.NN32.01.EHZ | 2014-10-05T04:07:16.000000Z - 2014-10-05T04:07:44.427600Z | 2500.0 Hz, 71070 samples\n",
       "\n",
       "[Use \"print(Stream.__str__(extended=True))\" to print all Traces]"
      ]
     },
     "execution_count": 34,
     "metadata": {},
     "output_type": "execute_result"
    }
   ],
   "source": [
    "obs_data.detrend(\"linear\")\n",
    "obs_data.detrend(\"demean\")\n",
    "obs_data.taper(max_percentage=0.05, type=\"hann\")\n",
    "# obs_data.filter(\"bandpass\", freqmin=min_frequency, freqmax=max_frequency, corners=4, zerophase=True)"
   ]
  },
  {
   "cell_type": "markdown",
   "metadata": {},
   "source": [
    "plotting to check"
   ]
  },
  {
   "cell_type": "markdown",
   "metadata": {},
   "source": [
    "#### stats for synth"
   ]
  },
  {
   "cell_type": "code",
   "execution_count": 35,
   "metadata": {},
   "outputs": [],
   "source": [
    "# synth[.stats.network = obs_data[0].stats.network\n",
    "# synth[0].stats.station = obs_data[0].stats.station\n",
    "# synth[0].stats.location = obs_data[0].stats.location\n",
    "# synth[0].stats.channel = 'FXZ'"
   ]
  },
  {
   "cell_type": "markdown",
   "metadata": {},
   "source": [
    "#### adding event info"
   ]
  },
  {
   "cell_type": "markdown",
   "metadata": {},
   "source": [
    "## Window Selection"
   ]
  },
  {
   "cell_type": "code",
   "execution_count": 36,
   "metadata": {},
   "outputs": [],
   "source": [
    "min_period=1/30.0\n",
    "max_period=1/2.0\n",
    "config = pyflex.Config(\n",
    "    min_period=min_period, max_period=max_period,\n",
    "    stalta_waterlevel=0.1, tshift_acceptance_level=0.25,\n",
    "    dlna_acceptance_level=10.0, cc_acceptance_level=0.80,\n",
    "    c_0=0.6, c_1=1.0, c_2=0, c_3a=1.0, c_3b=1.0, c_4a=0.5, c_4b=0.5)"
   ]
  },
  {
   "cell_type": "code",
   "execution_count": 37,
   "metadata": {},
   "outputs": [],
   "source": [
    "config_dict = {\n",
    "    \"Z\": config,\n",
    "#     \"R\": pyflex.Config,\n",
    "#     \"T\": pyflex.Config\n",
    "}"
   ]
  },
  {
   "cell_type": "code",
   "execution_count": 38,
   "metadata": {},
   "outputs": [],
   "source": [
    "obs_scaled = obs_data.copy()\n",
    "for i in range(len(obs_data)):\n",
    "    obs_scaled[i].data = obs_scaled[i].data * 10"
   ]
  },
  {
   "cell_type": "code",
   "execution_count": 39,
   "metadata": {
    "scrolled": true
   },
   "outputs": [],
   "source": [
    "# both = obs_scaled\n",
    "# both += synth \n",
    "\n",
    "# both.plot(starttime=origin_time, endtime=origin_time + 4)"
   ]
  },
  {
   "cell_type": "markdown",
   "metadata": {},
   "source": [
    "Now we create a window object for each trace pair, looping over each trace in the observed data and selecting the corresponding trace of the synthetic data for comparison."
   ]
  },
  {
   "cell_type": "code",
   "execution_count": 40,
   "metadata": {},
   "outputs": [
    {
     "data": {
      "text/plain": [
       "1 Trace(s) in Stream:\n",
       "UW.NM03..FXE | 2014-10-05T04:07:16.000000Z - 2014-10-05T04:07:44.427600Z | 2500.0 Hz, 71070 samples"
      ]
     },
     "execution_count": 40,
     "metadata": {},
     "output_type": "execute_result"
    }
   ],
   "source": [
    "# synth.select(station=obs_scaled[0].stats.station, channel=('*' + obs_scaled[0].stats.channel[-1]))"
   ]
  },
  {
   "cell_type": "code",
   "execution_count": 41,
   "metadata": {},
   "outputs": [
    {
     "ename": "NameError",
     "evalue": "name 'trace' is not defined",
     "output_type": "error",
     "traceback": [
      "\u001b[0;31m---------------------------------------------------------------------------\u001b[0m",
      "\u001b[0;31mNameError\u001b[0m                                 Traceback (most recent call last)",
      "\u001b[0;32m<ipython-input-41-f4f9a4e5bcb4>\u001b[0m in \u001b[0;36m<module>\u001b[0;34m()\u001b[0m\n\u001b[0;32m----> 1\u001b[0;31m \u001b[0mnegs_inv\u001b[0m\u001b[0;34m.\u001b[0m\u001b[0mselect\u001b[0m\u001b[0;34m(\u001b[0m\u001b[0mstation\u001b[0m\u001b[0;34m=\u001b[0m\u001b[0mtrace\u001b[0m\u001b[0;34m.\u001b[0m\u001b[0mstats\u001b[0m\u001b[0;34m.\u001b[0m\u001b[0mstation\u001b[0m\u001b[0;34m,\u001b[0m \u001b[0mchannel\u001b[0m\u001b[0;34m=\u001b[0m\u001b[0;34m(\u001b[0m\u001b[0;34m'*'\u001b[0m \u001b[0;34m+\u001b[0m \u001b[0mtrace\u001b[0m\u001b[0;34m.\u001b[0m\u001b[0mstats\u001b[0m\u001b[0;34m.\u001b[0m\u001b[0mchannel\u001b[0m\u001b[0;34m[\u001b[0m\u001b[0;34m-\u001b[0m\u001b[0;36m1\u001b[0m\u001b[0;34m]\u001b[0m\u001b[0;34m)\u001b[0m\u001b[0;34m)\u001b[0m\u001b[0;34m\u001b[0m\u001b[0m\n\u001b[0m",
      "\u001b[0;31mNameError\u001b[0m: name 'trace' is not defined"
     ]
    }
   ],
   "source": [
    "# negs_inv.select(station=trace.stats.station, channel=('*' + trace.stats.channel[-1]))"
   ]
  },
  {
   "cell_type": "code",
   "execution_count": 42,
   "metadata": {
    "scrolled": false
   },
   "outputs": [
    {
     "name": "stderr",
     "output_type": "stream",
     "text": [
      "/Users/stephensoerens/tomo_test/pyflex/src/pyflex/window_selector.py:623: ObsPyDeprecationWarning: The getTravelTimes() function is deprecated. Please use the obspy.taup.TauPyModel class directly.\n",
      "  model=self.config.earth_model)\n"
     ]
    }
   ],
   "source": [
    "windows = []\n",
    "for trace in obs_scaled:\n",
    "    station=trace.stats.station\n",
    "    channel=('*' + trace.stats.channel[-1])\n",
    "    inv = negs_inv.select(station=station, channel=channel)\n",
    "    window = pyflex.select_windows(trace, synth.select(station=station, channel=channel), config, event=event_ml, station=inv, plot=False)\n",
    "    windows.append(window)"
   ]
  },
  {
   "cell_type": "code",
   "execution_count": 43,
   "metadata": {},
   "outputs": [
    {
     "data": {
      "text/plain": [
       "[[Window(left=40160, right=40331, center=40245, channel_id=UW.NM03.01.EHE, max_cc_value=0.90845316072, cc_shift=-73, dlnA=2.60130086417),\n",
       "  Window(left=40687, right=40871, center=40779, channel_id=UW.NM03.01.EHE, max_cc_value=0.809988089648, cc_shift=-66, dlnA=0.6646119899),\n",
       "  Window(left=41171, right=41363, center=41267, channel_id=UW.NM03.01.EHE, max_cc_value=0.80684793962, cc_shift=33, dlnA=1.81099994058),\n",
       "  Window(left=43227, right=43426, center=43326, channel_id=UW.NM03.01.EHE, max_cc_value=0.880190770801, cc_shift=-15, dlnA=1.63964587821),\n",
       "  Window(left=44378, right=44551, center=44464, channel_id=UW.NM03.01.EHE, max_cc_value=0.81739041051, cc_shift=-14, dlnA=2.10007198751),\n",
       "  Window(left=61293, right=61494, center=61393, channel_id=UW.NM03.01.EHE, max_cc_value=0.850949499171, cc_shift=22, dlnA=2.10579710814),\n",
       "  Window(left=65095, right=65265, center=65180, channel_id=UW.NM03.01.EHE, max_cc_value=0.948294536061, cc_shift=-2, dlnA=3.28602164045)],\n",
       " [Window(left=40287, right=40469, center=40378, channel_id=UW.NM03.01.EHN, max_cc_value=0.863824684277, cc_shift=0, dlnA=-0.0195615826227),\n",
       "  Window(left=51015, right=51202, center=51108, channel_id=UW.NM03.01.EHN, max_cc_value=0.922182233065, cc_shift=29, dlnA=1.45121968747),\n",
       "  Window(left=54960, right=55109, center=55034, channel_id=UW.NM03.01.EHN, max_cc_value=0.932759042563, cc_shift=0, dlnA=0.668051039484),\n",
       "  Window(left=55145, right=55459, center=55302, channel_id=UW.NM03.01.EHN, max_cc_value=0.881569281373, cc_shift=27, dlnA=1.12271017265),\n",
       "  Window(left=66917, right=67081, center=66999, channel_id=UW.NM03.01.EHN, max_cc_value=0.888015169157, cc_shift=28, dlnA=3.70375816607),\n",
       "  Window(left=69436, right=69642, center=69539, channel_id=UW.NM03.01.EHN, max_cc_value=0.899455645917, cc_shift=0, dlnA=3.36339660846)],\n",
       " [Window(left=38802, right=38992, center=38897, channel_id=UW.NM03.01.EHZ, max_cc_value=0.815531523734, cc_shift=-4, dlnA=-0.20319877867),\n",
       "  Window(left=53076, right=53315, center=53195, channel_id=UW.NM03.01.EHZ, max_cc_value=0.805082050787, cc_shift=0, dlnA=0.0268578036267),\n",
       "  Window(left=54357, right=54551, center=54454, channel_id=UW.NM03.01.EHZ, max_cc_value=0.801065722365, cc_shift=-90, dlnA=-0.348160749003),\n",
       "  Window(left=68690, right=68885, center=68787, channel_id=UW.NM03.01.EHZ, max_cc_value=0.810995163898, cc_shift=24, dlnA=1.54241217481)],\n",
       " [Window(left=38394, right=38561, center=38477, channel_id=UW.NM22.01.EHE, max_cc_value=0.9448806264, cc_shift=28, dlnA=1.31739630029),\n",
       "  Window(left=38726, right=38895, center=38810, channel_id=UW.NM22.01.EHE, max_cc_value=0.98203234992, cc_shift=0, dlnA=1.65965224797),\n",
       "  Window(left=42442, right=42613, center=42527, channel_id=UW.NM22.01.EHE, max_cc_value=0.912321402424, cc_shift=7, dlnA=1.9314816277),\n",
       "  Window(left=48575, right=48777, center=48676, channel_id=UW.NM22.01.EHE, max_cc_value=0.837153683797, cc_shift=6, dlnA=1.58052841732)],\n",
       " [Window(left=37862, right=38057, center=37959, channel_id=UW.NM22.01.EHN, max_cc_value=0.84562965341, cc_shift=-123, dlnA=2.39770541502),\n",
       "  Window(left=38426, right=38591, center=38508, channel_id=UW.NM22.01.EHN, max_cc_value=0.840373813767, cc_shift=6, dlnA=2.03471847584)],\n",
       " [Window(left=42634, right=42813, center=42723, channel_id=UW.NM22.01.EHZ, max_cc_value=0.970647151467, cc_shift=5, dlnA=0.759395351027),\n",
       "  Window(left=43240, right=43427, center=43333, channel_id=UW.NM22.01.EHZ, max_cc_value=0.820400373912, cc_shift=-9, dlnA=1.24940587674),\n",
       "  Window(left=47749, right=47999, center=47874, channel_id=UW.NM22.01.EHZ, max_cc_value=0.810412746179, cc_shift=96, dlnA=1.67964404683),\n",
       "  Window(left=61033, right=61193, center=61113, channel_id=UW.NM22.01.EHZ, max_cc_value=0.918629691113, cc_shift=-2, dlnA=2.924769489),\n",
       "  Window(left=61394, right=61585, center=61489, channel_id=UW.NM22.01.EHZ, max_cc_value=0.913382814077, cc_shift=-63, dlnA=2.53811581889)],\n",
       " [Window(left=49127, right=49254, center=49190, channel_id=UW.NM41.01.EHN, max_cc_value=0.838641988388, cc_shift=13, dlnA=1.85015454285),\n",
       "  Window(left=60315, right=60502, center=60408, channel_id=UW.NM41.01.EHN, max_cc_value=0.864868771925, cc_shift=10, dlnA=3.79384645977)],\n",
       " [Window(left=43526, right=43723, center=43624, channel_id=UW.NM41.01.EHZ, max_cc_value=0.914309088129, cc_shift=-52, dlnA=0.760686903159),\n",
       "  Window(left=43838, right=44032, center=43935, channel_id=UW.NM41.01.EHZ, max_cc_value=0.830329242873, cc_shift=-6, dlnA=1.52137602255),\n",
       "  Window(left=45417, right=45623, center=45520, channel_id=UW.NM41.01.EHZ, max_cc_value=0.9275506311, cc_shift=0, dlnA=0.864081271114),\n",
       "  Window(left=58520, right=58722, center=58621, channel_id=UW.NM41.01.EHZ, max_cc_value=0.811888606811, cc_shift=24, dlnA=3.10358194464)],\n",
       " [Window(left=39309, right=39498, center=39403, channel_id=UW.NM42.01.EHE, max_cc_value=0.848912843541, cc_shift=-38, dlnA=0.592878896655),\n",
       "  Window(left=39742, right=39948, center=39845, channel_id=UW.NM42.01.EHE, max_cc_value=0.860787721623, cc_shift=-85, dlnA=0.330503708077),\n",
       "  Window(left=40478, right=40644, center=40561, channel_id=UW.NM42.01.EHE, max_cc_value=0.822298270913, cc_shift=19, dlnA=2.22411391069)],\n",
       " [Window(left=50605, right=50863, center=50734, channel_id=UW.NM42.01.EHN, max_cc_value=0.883125657371, cc_shift=5, dlnA=0.594180704181)],\n",
       " [Window(left=54070, right=54375, center=54222, channel_id=UW.NM42.01.EHZ, max_cc_value=0.939674043864, cc_shift=6, dlnA=1.12931256141)],\n",
       " [Window(left=39401, right=39537, center=39469, channel_id=UW.NN07.01.EHE, max_cc_value=0.867935934428, cc_shift=11, dlnA=1.82286229513),\n",
       "  Window(left=39825, right=40012, center=39918, channel_id=UW.NN07.01.EHE, max_cc_value=0.804098353641, cc_shift=0, dlnA=1.93996101451)],\n",
       " [Window(left=46525, right=46746, center=46635, channel_id=UW.NN07.01.EHN, max_cc_value=0.947467975018, cc_shift=60, dlnA=-0.785802669526),\n",
       "  Window(left=54440, right=54617, center=54528, channel_id=UW.NN07.01.EHN, max_cc_value=0.849205908977, cc_shift=33, dlnA=0.811189187789),\n",
       "  Window(left=60700, right=60978, center=60839, channel_id=UW.NN07.01.EHN, max_cc_value=0.825558018915, cc_shift=107, dlnA=0.591650036818)],\n",
       " [Window(left=40504, right=40691, center=40597, channel_id=UW.NN07.01.EHZ, max_cc_value=0.886332791177, cc_shift=-17, dlnA=0.539218215087),\n",
       "  Window(left=58446, right=58601, center=58523, channel_id=UW.NN07.01.EHZ, max_cc_value=0.893488522767, cc_shift=48, dlnA=0.698447033602),\n",
       "  Window(left=64917, right=65094, center=65005, channel_id=UW.NN07.01.EHZ, max_cc_value=0.915923314534, cc_shift=-25, dlnA=0.981224446141)],\n",
       " [Window(left=40072, right=40232, center=40152, channel_id=UW.NN09.01.EHE, max_cc_value=0.865037178728, cc_shift=-21, dlnA=-0.850460015587)],\n",
       " [Window(left=47449, right=47591, center=47520, channel_id=UW.NN09.01.EHN, max_cc_value=0.844400663875, cc_shift=13, dlnA=0.0904089405685),\n",
       "  Window(left=56566, right=56750, center=56658, channel_id=UW.NN09.01.EHN, max_cc_value=0.866356228853, cc_shift=113, dlnA=1.01782529713),\n",
       "  Window(left=65969, right=66130, center=66049, channel_id=UW.NN09.01.EHN, max_cc_value=0.938399483843, cc_shift=-4, dlnA=1.96283300439)],\n",
       " [Window(left=37855, right=38054, center=37954, channel_id=UW.NN09.01.EHZ, max_cc_value=0.895815332965, cc_shift=-133, dlnA=-0.0651895566126),\n",
       "  Window(left=60405, right=60605, center=60505, channel_id=UW.NN09.01.EHZ, max_cc_value=0.854096061916, cc_shift=38, dlnA=1.1403157547)],\n",
       " [Window(left=53303, right=53494, center=53398, channel_id=UW.NN17.01.EHE, max_cc_value=0.860157727576, cc_shift=34, dlnA=1.17158389733)],\n",
       " [Window(left=37891, right=38074, center=37982, channel_id=UW.NN17.01.EHN, max_cc_value=0.885465591206, cc_shift=10, dlnA=0.195708909129),\n",
       "  Window(left=57165, right=57350, center=57257, channel_id=UW.NN17.01.EHN, max_cc_value=0.961209495066, cc_shift=29, dlnA=0.885644111247),\n",
       "  Window(left=62550, right=62740, center=62645, channel_id=UW.NN17.01.EHN, max_cc_value=0.828700700173, cc_shift=31, dlnA=1.79434721494)],\n",
       " [Window(left=39864, right=40117, center=39990, channel_id=UW.NN17.01.EHZ, max_cc_value=0.955179900947, cc_shift=26, dlnA=-1.03273812618)],\n",
       " [Window(left=39810, right=40027, center=39918, channel_id=UW.NN18.01.EHE, max_cc_value=0.957481611305, cc_shift=22, dlnA=-0.0241500818437),\n",
       "  Window(left=48691, right=48879, center=48785, channel_id=UW.NN18.01.EHE, max_cc_value=0.879323539601, cc_shift=9, dlnA=-0.610740431719)],\n",
       " [],\n",
       " [Window(left=38157, right=38346, center=38251, channel_id=UW.NN18.01.EHZ, max_cc_value=0.875610069802, cc_shift=-89, dlnA=-0.102324559325),\n",
       "  Window(left=45263, right=45458, center=45360, channel_id=UW.NN18.01.EHZ, max_cc_value=0.866268325188, cc_shift=-19, dlnA=0.124676329078),\n",
       "  Window(left=47755, right=47959, center=47857, channel_id=UW.NN18.01.EHZ, max_cc_value=0.946539031186, cc_shift=50, dlnA=-0.515476029038)],\n",
       " [Window(left=37672, right=37882, center=37777, channel_id=UW.NN19.01.EHE, max_cc_value=0.917109889835, cc_shift=4, dlnA=0.736591634211),\n",
       "  Window(left=39740, right=39939, center=39839, channel_id=UW.NN19.01.EHE, max_cc_value=0.81002117552, cc_shift=-22, dlnA=-1.66165144148)],\n",
       " [Window(left=43320, right=43496, center=43408, channel_id=UW.NN19.01.EHN, max_cc_value=0.903174507446, cc_shift=0, dlnA=1.10285615965),\n",
       "  Window(left=50814, right=50990, center=50902, channel_id=UW.NN19.01.EHN, max_cc_value=0.861850241521, cc_shift=-13, dlnA=0.401941629058),\n",
       "  Window(left=56058, right=56235, center=56146, channel_id=UW.NN19.01.EHN, max_cc_value=0.899753173924, cc_shift=35, dlnA=-0.532427947949)],\n",
       " [Window(left=39778, right=39945, center=39861, channel_id=UW.NN19.01.EHZ, max_cc_value=0.953377019978, cc_shift=16, dlnA=-0.150129966292),\n",
       "  Window(left=41067, right=41286, center=41176, channel_id=UW.NN19.01.EHZ, max_cc_value=0.877020570697, cc_shift=-91, dlnA=0.395876691938)],\n",
       " [Window(left=38034, right=38201, center=38117, channel_id=UW.NN21.01.EHE, max_cc_value=0.871145265195, cc_shift=27, dlnA=1.44763959246),\n",
       "  Window(left=39000, right=39217, center=39108, channel_id=UW.NN21.01.EHE, max_cc_value=0.878505617294, cc_shift=5, dlnA=0.316787848964),\n",
       "  Window(left=39330, right=39515, center=39422, channel_id=UW.NN21.01.EHE, max_cc_value=0.853769830527, cc_shift=-37, dlnA=0.302283737251),\n",
       "  Window(left=52300, right=52493, center=52396, channel_id=UW.NN21.01.EHE, max_cc_value=0.850775541325, cc_shift=18, dlnA=-0.134840202319),\n",
       "  Window(left=56381, right=56619, center=56500, channel_id=UW.NN21.01.EHE, max_cc_value=0.846965376083, cc_shift=56, dlnA=-0.385551616381),\n",
       "  Window(left=67103, right=67302, center=67202, channel_id=UW.NN21.01.EHE, max_cc_value=0.877919749511, cc_shift=-13, dlnA=2.96568935909)],\n",
       " [Window(left=44514, right=44688, center=44601, channel_id=UW.NN21.01.EHN, max_cc_value=0.893652929455, cc_shift=-34, dlnA=0.772486701978),\n",
       "  Window(left=48243, right=48537, center=48390, channel_id=UW.NN21.01.EHN, max_cc_value=0.833090726057, cc_shift=25, dlnA=-0.414540548692),\n",
       "  Window(left=62799, right=62987, center=62893, channel_id=UW.NN21.01.EHN, max_cc_value=0.904232052216, cc_shift=-4, dlnA=2.12602301819)],\n",
       " [Window(left=38445, right=38636, center=38540, channel_id=UW.NN21.01.EHZ, max_cc_value=0.839988420686, cc_shift=-42, dlnA=-0.877674346439)],\n",
       " [],\n",
       " [Window(left=38714, right=38909, center=38811, channel_id=UW.NN24.01.EHN, max_cc_value=0.91742395636, cc_shift=33, dlnA=1.30107631513)],\n",
       " [Window(left=44522, right=44674, center=44598, channel_id=UW.NN24.01.EHZ, max_cc_value=0.833761611717, cc_shift=-5, dlnA=0.348633735248),\n",
       "  Window(left=49186, right=49347, center=49266, channel_id=UW.NN24.01.EHZ, max_cc_value=0.823773213291, cc_shift=17, dlnA=0.503212909533),\n",
       "  Window(left=66800, right=66970, center=66885, channel_id=UW.NN24.01.EHZ, max_cc_value=0.859722007976, cc_shift=-6, dlnA=2.0589092108)],\n",
       " [Window(left=52687, right=52898, center=52792, channel_id=UW.NN32.01.EHE, max_cc_value=0.85125100966, cc_shift=0, dlnA=0.382951353008),\n",
       "  Window(left=60376, right=60568, center=60472, channel_id=UW.NN32.01.EHE, max_cc_value=0.855091830593, cc_shift=-9, dlnA=1.16646029994),\n",
       "  Window(left=67692, right=67873, center=67782, channel_id=UW.NN32.01.EHE, max_cc_value=0.828953302303, cc_shift=-98, dlnA=1.09376217168)],\n",
       " [Window(left=67036, right=67237, center=67136, channel_id=UW.NN32.01.EHN, max_cc_value=0.83487068711, cc_shift=-39, dlnA=1.57252779981)],\n",
       " [Window(left=59194, right=59362, center=59278, channel_id=UW.NN32.01.EHZ, max_cc_value=0.860006004886, cc_shift=35, dlnA=0.448580440979)]]"
      ]
     },
     "execution_count": 43,
     "metadata": {},
     "output_type": "execute_result"
    }
   ],
   "source": [
    "windows"
   ]
  },
  {
   "cell_type": "code",
   "execution_count": 44,
   "metadata": {},
   "outputs": [],
   "source": [
    "# window = window_on_stream(\n",
    "#     obs_scaled, synth, config_dict, station=inv, event=event_ml, figure_mode=False)"
   ]
  },
  {
   "cell_type": "code",
   "execution_count": 45,
   "metadata": {},
   "outputs": [],
   "source": [
    "# adjoint_source = pyadjoint.calculate_adjoint_source(\n",
    "#     adj_src_type=\"waveform_misfit\",\n",
    "#     observeed=obs_scaled, \n",
    "#     synthetic=synth, \n",
    "#     min_period = 1/30.0, max_period = 1/2.0,\n",
    "#     left_window_border="
   ]
  },
  {
   "cell_type": "code",
   "execution_count": 48,
   "metadata": {},
   "outputs": [],
   "source": [
    "config_multitaper = pyadjoint.ConfigMultiTaper(\n",
    "    min_period, max_period,\n",
    "    lnpt=15,\n",
    "    transfunc_waterlevel=1.0E-10,\n",
    "    water_threshold=0.02,\n",
    "    ipower_costaper=10,\n",
    "    min_cycle_in_window=0.5,\n",
    "    taper_type='hann',\n",
    "    taper_percentage=0.3,\n",
    "    mt_nw=4.0,\n",
    "    num_taper=5,\n",
    "    dt_fac=2.0,\n",
    "    phase_step=1.5,\n",
    "    err_fac=2.5,\n",
    "    dt_max_scale=3.5,\n",
    "    measure_type='dt',\n",
    "    dt_sigma_min=1.0,\n",
    "    dlna_sigma_min=0.5,\n",
    "    use_cc_error=False,\n",
    "    use_mt_error=False)"
   ]
  },
  {
   "cell_type": "code",
   "execution_count": 49,
   "metadata": {},
   "outputs": [],
   "source": [
    "config_cc = pyadjoint.ConfigCrossCorrelation(\n",
    "    min_period, max_period,\n",
    "#     lnpt=15,\n",
    "#     transfunc_waterlevel=1.0E-10,\n",
    "#     water_threshold=0.02,\n",
    "#     ipower_costaper=10,\n",
    "#     min_cycle_in_window=0.5,\n",
    "    taper_type='hann',\n",
    "    taper_percentage=0.3,\n",
    "#     mt_nw=4.0,\n",
    "#     num_taper=5,\n",
    "#     dt_fac=2.0,\n",
    "#     phase_step=1.5,\n",
    "#     err_fac=2.5,\n",
    "#     dt_max_scale=3.5,\n",
    "    measure_type='dt',\n",
    "    dt_sigma_min=1.0,\n",
    "    dlna_sigma_min=0.5,\n",
    "    use_cc_error=True)\n",
    "#     use_mt_error=False)"
   ]
  },
  {
   "cell_type": "code",
   "execution_count": 50,
   "metadata": {
    "scrolled": true
   },
   "outputs": [],
   "source": [
    "# windows[0:2].left\n",
    "# windows_time = windows.left * sampling_rate, windows.ri\n",
    "# window = windows[0]"
   ]
  },
  {
   "cell_type": "code",
   "execution_count": 51,
   "metadata": {},
   "outputs": [],
   "source": [
    "# print(pyadjoint.calculate_adjoint_source(\n",
    "#     \"multitaper_misfit\", \n",
    "#     obs_scaled,\n",
    "#     synth,\n",
    "#     windows,\n",
    "#     config,\n",
    "#     adjoint_src=False))"
   ]
  },
  {
   "cell_type": "code",
   "execution_count": 60,
   "metadata": {},
   "outputs": [],
   "source": [
    "left_window_border = windows[0][0].left\n",
    "right_window_border = windows[0][0].right\n",
    "deltat = synth[0].stats.delta\n",
    "\n",
    "# left_sample = int(np.floor(left_window_border / deltat)) + 1\n",
    "# nlen = int(np.floor((right_window_border - left_window_border) / deltat)) + 1\n",
    "# right_sample = left_sample + nlen\n",
    "\n",
    "left_sample = left_window_border\n",
    "right_sample = right_window_border\n",
    "nlen = right_sample - left_sample\n",
    "\n",
    "d = np.zeros(nlen)\n",
    "s = np.zeros(nlen)"
   ]
  },
  {
   "cell_type": "code",
   "execution_count": 67,
   "metadata": {},
   "outputs": [
    {
     "data": {
      "text/plain": [
       "Window(left=40160, right=40331, center=40245, channel_id=UW.NM03.01.EHE, max_cc_value=0.90845316072, cc_shift=-73, dlnA=2.60130086417)"
      ]
     },
     "execution_count": 67,
     "metadata": {},
     "output_type": "execute_result"
    }
   ],
   "source": [
    "windows[0][0]"
   ]
  },
  {
   "cell_type": "code",
   "execution_count": 66,
   "metadata": {},
   "outputs": [
    {
     "ename": "TypeError",
     "evalue": "'Window' object is not iterable",
     "output_type": "error",
     "traceback": [
      "\u001b[0;31m---------------------------------------------------------------------------\u001b[0m",
      "\u001b[0;31mTypeError\u001b[0m                                 Traceback (most recent call last)",
      "\u001b[0;32m<ipython-input-66-3e2620afce59>\u001b[0m in \u001b[0;36m<module>\u001b[0;34m()\u001b[0m\n\u001b[1;32m      2\u001b[0m \u001b[0;31m#     \"multitaper_misfit\",\u001b[0m\u001b[0;34m\u001b[0m\u001b[0;34m\u001b[0m\u001b[0m\n\u001b[1;32m      3\u001b[0m     \u001b[0;34m\"cc_traveltime_misfit\"\u001b[0m\u001b[0;34m,\u001b[0m\u001b[0;34m\u001b[0m\u001b[0m\n\u001b[0;32m----> 4\u001b[0;31m     obs_scaled[0], synth[0], config_cc, windows[0][0])\n\u001b[0m",
      "\u001b[0;32m/Users/stephensoerens/tomo_test/pyadjoint/src/pyadjoint/adjoint_source.pyc\u001b[0m in \u001b[0;36mcalculate_adjoint_source\u001b[0;34m(adj_src_type, observed, synthetic, config, window, adjoint_src, plot, plot_filename, **kwargs)\u001b[0m\n\u001b[1;32m    314\u001b[0m         ret_val = fct(observed=observed, synthetic=synthetic, config=config,\n\u001b[1;32m    315\u001b[0m                       \u001b[0mwindow\u001b[0m\u001b[0;34m=\u001b[0m\u001b[0mwindow\u001b[0m\u001b[0;34m,\u001b[0m \u001b[0madjoint_src\u001b[0m\u001b[0;34m=\u001b[0m\u001b[0madjoint_src\u001b[0m\u001b[0;34m,\u001b[0m \u001b[0mfigure\u001b[0m\u001b[0;34m=\u001b[0m\u001b[0mfigure\u001b[0m\u001b[0;34m,\u001b[0m\u001b[0;34m\u001b[0m\u001b[0m\n\u001b[0;32m--> 316\u001b[0;31m                       **kwargs)\n\u001b[0m\u001b[1;32m    317\u001b[0m \u001b[0;34m\u001b[0m\u001b[0m\n\u001b[1;32m    318\u001b[0m         \u001b[0;32mif\u001b[0m \u001b[0mplot\u001b[0m \u001b[0;32mand\u001b[0m \u001b[0mplot_filename\u001b[0m\u001b[0;34m:\u001b[0m\u001b[0;34m\u001b[0m\u001b[0m\n",
      "\u001b[0;32m/Users/stephensoerens/tomo_test/pyadjoint/src/pyadjoint/adjoint_source_types/cc_traveltime_misfit.pyc\u001b[0m in \u001b[0;36mcalculate_adjoint_source\u001b[0;34m(observed, synthetic, config, window, adjoint_src, figure)\u001b[0m\n\u001b[1;32m    227\u001b[0m     \u001b[0;31m# loop over time windows\u001b[0m\u001b[0;34m\u001b[0m\u001b[0;34m\u001b[0m\u001b[0m\n\u001b[1;32m    228\u001b[0m     \u001b[0;31m# ===\u001b[0m\u001b[0;34m\u001b[0m\u001b[0;34m\u001b[0m\u001b[0m\n\u001b[0;32m--> 229\u001b[0;31m     \u001b[0;32mfor\u001b[0m \u001b[0mwins\u001b[0m \u001b[0;32min\u001b[0m \u001b[0mwindow\u001b[0m\u001b[0;34m:\u001b[0m\u001b[0;34m\u001b[0m\u001b[0m\n\u001b[0m\u001b[1;32m    230\u001b[0m \u001b[0;34m\u001b[0m\u001b[0m\n\u001b[1;32m    231\u001b[0m         \u001b[0mmeasure_wins\u001b[0m \u001b[0;34m=\u001b[0m \u001b[0;34m{\u001b[0m\u001b[0;34m}\u001b[0m\u001b[0;34m\u001b[0m\u001b[0m\n",
      "\u001b[0;31mTypeError\u001b[0m: 'Window' object is not iterable"
     ]
    }
   ],
   "source": [
    "adjsrc = pyadjoint.adjoint_source.calculate_adjoint_source(\n",
    "#     \"multitaper_misfit\",\n",
    "    \"cc_traveltime_misfit\",\n",
    "    obs_scaled[0], synth[0], config_cc, windows[0][0])"
   ]
  },
  {
   "cell_type": "code",
   "execution_count": null,
   "metadata": {},
   "outputs": [],
   "source": [
    "print(adjsrc)"
   ]
  },
  {
   "cell_type": "code",
   "execution_count": null,
   "metadata": {
    "scrolled": false
   },
   "outputs": [],
   "source": [
    "# adjsrcs = pytomo3d.adjoint.adjsrc.calculate_adjsrc_on_stream(\n",
    "#     obs_scaled, synth, windows, config, 'multitaper_misfit',\n",
    "#     figure_mode=True, figure_dir=\"./figure\")"
   ]
  },
  {
   "cell_type": "markdown",
   "metadata": {},
   "source": [
    "## Generic Tests"
   ]
  },
  {
   "cell_type": "code",
   "execution_count": null,
   "metadata": {},
   "outputs": [],
   "source": [
    "obs, syn = pyadjoint.utils.get_example_data()"
   ]
  },
  {
   "cell_type": "code",
   "execution_count": null,
   "metadata": {},
   "outputs": [],
   "source": []
  }
 ],
 "metadata": {
  "kernelspec": {
   "display_name": "Python [conda env:tomo_new]",
   "language": "python",
   "name": "conda-env-tomo_new-py"
  },
  "language_info": {
   "codemirror_mode": {
    "name": "ipython",
    "version": 2
   },
   "file_extension": ".py",
   "mimetype": "text/x-python",
   "name": "python",
   "nbconvert_exporter": "python",
   "pygments_lexer": "ipython2",
   "version": "2.7.14"
  }
 },
 "nbformat": 4,
 "nbformat_minor": 2
}
